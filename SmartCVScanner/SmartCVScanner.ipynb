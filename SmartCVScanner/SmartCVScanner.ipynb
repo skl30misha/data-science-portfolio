{
  "nbformat": 4,
  "nbformat_minor": 0,
  "metadata": {
    "colab": {
      "provenance": [],
      "toc_visible": true,
      "authorship_tag": "ABX9TyPIUfGlv1viw3lvWOHlI0+R",
      "include_colab_link": true
    },
    "kernelspec": {
      "name": "python3",
      "display_name": "Python 3"
    },
    "language_info": {
      "name": "python"
    }
  },
  "cells": [
    {
      "cell_type": "markdown",
      "metadata": {
        "id": "view-in-github",
        "colab_type": "text"
      },
      "source": [
        "<a href=\"https://colab.research.google.com/github/skl30misha/data-science-portfolio/blob/main/SmartCVScanner/SmartCVScanner.ipynb\" target=\"_parent\"><img src=\"https://colab.research.google.com/assets/colab-badge.svg\" alt=\"Open In Colab\"/></a>"
      ]
    },
    {
      "cell_type": "markdown",
      "source": [
        "Project Description:\n",
        "\n",
        "This project uses BERT, a powerful Natural Language Processing (NLP) model, to automatically analyze and filter resumes for Data Scientist roles. It performs skill matching by checking resumes against a list of key Data Science skills. Suitable resumes (with skill match above a threshold) are automatically uploaded to Google Drive for easy access by HR teams. This speeds up the recruitment process by quickly identifying the best candidates based on their skills."
      ],
      "metadata": {
        "id": "Qck1PkXOwULZ"
      }
    },
    {
      "cell_type": "code",
      "source": [
        "pip install transformers"
      ],
      "metadata": {
        "colab": {
          "base_uri": "https://localhost:8080/"
        },
        "id": "ZLithXlu94CM",
        "outputId": "4c441bdb-8466-4d19-c0f1-2a6b56ce3de5"
      },
      "execution_count": 10,
      "outputs": [
        {
          "output_type": "stream",
          "name": "stdout",
          "text": [
            "Requirement already satisfied: transformers in /usr/local/lib/python3.11/dist-packages (4.52.2)\n",
            "Requirement already satisfied: filelock in /usr/local/lib/python3.11/dist-packages (from transformers) (3.18.0)\n",
            "Requirement already satisfied: huggingface-hub<1.0,>=0.30.0 in /usr/local/lib/python3.11/dist-packages (from transformers) (0.31.4)\n",
            "Requirement already satisfied: numpy>=1.17 in /usr/local/lib/python3.11/dist-packages (from transformers) (2.0.2)\n",
            "Requirement already satisfied: packaging>=20.0 in /usr/local/lib/python3.11/dist-packages (from transformers) (24.2)\n",
            "Requirement already satisfied: pyyaml>=5.1 in /usr/local/lib/python3.11/dist-packages (from transformers) (6.0.2)\n",
            "Requirement already satisfied: regex!=2019.12.17 in /usr/local/lib/python3.11/dist-packages (from transformers) (2024.11.6)\n",
            "Requirement already satisfied: requests in /usr/local/lib/python3.11/dist-packages (from transformers) (2.32.3)\n",
            "Requirement already satisfied: tokenizers<0.22,>=0.21 in /usr/local/lib/python3.11/dist-packages (from transformers) (0.21.1)\n",
            "Requirement already satisfied: safetensors>=0.4.3 in /usr/local/lib/python3.11/dist-packages (from transformers) (0.5.3)\n",
            "Requirement already satisfied: tqdm>=4.27 in /usr/local/lib/python3.11/dist-packages (from transformers) (4.67.1)\n",
            "Requirement already satisfied: fsspec>=2023.5.0 in /usr/local/lib/python3.11/dist-packages (from huggingface-hub<1.0,>=0.30.0->transformers) (2025.3.2)\n",
            "Requirement already satisfied: typing-extensions>=3.7.4.3 in /usr/local/lib/python3.11/dist-packages (from huggingface-hub<1.0,>=0.30.0->transformers) (4.13.2)\n",
            "Requirement already satisfied: charset-normalizer<4,>=2 in /usr/local/lib/python3.11/dist-packages (from requests->transformers) (3.4.2)\n",
            "Requirement already satisfied: idna<4,>=2.5 in /usr/local/lib/python3.11/dist-packages (from requests->transformers) (3.10)\n",
            "Requirement already satisfied: urllib3<3,>=1.21.1 in /usr/local/lib/python3.11/dist-packages (from requests->transformers) (2.4.0)\n",
            "Requirement already satisfied: certifi>=2017.4.17 in /usr/local/lib/python3.11/dist-packages (from requests->transformers) (2025.4.26)\n"
          ]
        }
      ]
    },
    {
      "cell_type": "code",
      "execution_count": 11,
      "metadata": {
        "colab": {
          "base_uri": "https://localhost:8080/"
        },
        "id": "UHLwcdEl9cTk",
        "outputId": "3ea97cf3-f1ba-4552-9964-78cc53842794"
      },
      "outputs": [
        {
          "output_type": "stream",
          "name": "stdout",
          "text": [
            "Drive already mounted at /content/drive; to attempt to forcibly remount, call drive.mount(\"/content/drive\", force_remount=True).\n"
          ]
        }
      ],
      "source": [
        "from google.colab import drive\n",
        "drive.mount('/content/drive')\n",
        "import os\n",
        "os.chdir('/content/drive/MyDrive/Colab Notebooks/SmartCVScanner')"
      ]
    },
    {
      "cell_type": "markdown",
      "source": [
        "#  PDF Upload and Text Extraction"
      ],
      "metadata": {
        "id": "Um_9DuiMlYEe"
      }
    },
    {
      "cell_type": "code",
      "source": [
        "!pip install PyMuPDF"
      ],
      "metadata": {
        "colab": {
          "base_uri": "https://localhost:8080/"
        },
        "id": "1D4QNF5tddBc",
        "outputId": "d289cfd2-5169-4e98-c123-575434479376"
      },
      "execution_count": 12,
      "outputs": [
        {
          "output_type": "stream",
          "name": "stdout",
          "text": [
            "Requirement already satisfied: PyMuPDF in /usr/local/lib/python3.11/dist-packages (1.26.0)\n"
          ]
        }
      ]
    },
    {
      "cell_type": "code",
      "source": [
        "from google.colab import files\n",
        "import fitz  # PyMuPDF\n",
        "\n",
        "def extract_text_from_pdf(file_path):\n",
        "    text = \"\"\n",
        "    with fitz.open(file_path) as doc:\n",
        "        for page in doc:\n",
        "            text += page.get_text()\n",
        "    return text\n",
        "\n",
        "# 1. Upload file using the button\n",
        "uploaded = files.upload()\n"
      ],
      "metadata": {
        "colab": {
          "base_uri": "https://localhost:8080/",
          "height": 73
        },
        "id": "XR_NlkCXgEF5",
        "outputId": "a406b146-1bde-4d65-c0c1-e929f51df582"
      },
      "execution_count": 13,
      "outputs": [
        {
          "output_type": "display_data",
          "data": {
            "text/plain": [
              "<IPython.core.display.HTML object>"
            ],
            "text/html": [
              "\n",
              "     <input type=\"file\" id=\"files-5b8a845d-918a-4339-b531-7986f18bbc7a\" name=\"files[]\" multiple disabled\n",
              "        style=\"border:none\" />\n",
              "     <output id=\"result-5b8a845d-918a-4339-b531-7986f18bbc7a\">\n",
              "      Upload widget is only available when the cell has been executed in the\n",
              "      current browser session. Please rerun this cell to enable.\n",
              "      </output>\n",
              "      <script>// Copyright 2017 Google LLC\n",
              "//\n",
              "// Licensed under the Apache License, Version 2.0 (the \"License\");\n",
              "// you may not use this file except in compliance with the License.\n",
              "// You may obtain a copy of the License at\n",
              "//\n",
              "//      http://www.apache.org/licenses/LICENSE-2.0\n",
              "//\n",
              "// Unless required by applicable law or agreed to in writing, software\n",
              "// distributed under the License is distributed on an \"AS IS\" BASIS,\n",
              "// WITHOUT WARRANTIES OR CONDITIONS OF ANY KIND, either express or implied.\n",
              "// See the License for the specific language governing permissions and\n",
              "// limitations under the License.\n",
              "\n",
              "/**\n",
              " * @fileoverview Helpers for google.colab Python module.\n",
              " */\n",
              "(function(scope) {\n",
              "function span(text, styleAttributes = {}) {\n",
              "  const element = document.createElement('span');\n",
              "  element.textContent = text;\n",
              "  for (const key of Object.keys(styleAttributes)) {\n",
              "    element.style[key] = styleAttributes[key];\n",
              "  }\n",
              "  return element;\n",
              "}\n",
              "\n",
              "// Max number of bytes which will be uploaded at a time.\n",
              "const MAX_PAYLOAD_SIZE = 100 * 1024;\n",
              "\n",
              "function _uploadFiles(inputId, outputId) {\n",
              "  const steps = uploadFilesStep(inputId, outputId);\n",
              "  const outputElement = document.getElementById(outputId);\n",
              "  // Cache steps on the outputElement to make it available for the next call\n",
              "  // to uploadFilesContinue from Python.\n",
              "  outputElement.steps = steps;\n",
              "\n",
              "  return _uploadFilesContinue(outputId);\n",
              "}\n",
              "\n",
              "// This is roughly an async generator (not supported in the browser yet),\n",
              "// where there are multiple asynchronous steps and the Python side is going\n",
              "// to poll for completion of each step.\n",
              "// This uses a Promise to block the python side on completion of each step,\n",
              "// then passes the result of the previous step as the input to the next step.\n",
              "function _uploadFilesContinue(outputId) {\n",
              "  const outputElement = document.getElementById(outputId);\n",
              "  const steps = outputElement.steps;\n",
              "\n",
              "  const next = steps.next(outputElement.lastPromiseValue);\n",
              "  return Promise.resolve(next.value.promise).then((value) => {\n",
              "    // Cache the last promise value to make it available to the next\n",
              "    // step of the generator.\n",
              "    outputElement.lastPromiseValue = value;\n",
              "    return next.value.response;\n",
              "  });\n",
              "}\n",
              "\n",
              "/**\n",
              " * Generator function which is called between each async step of the upload\n",
              " * process.\n",
              " * @param {string} inputId Element ID of the input file picker element.\n",
              " * @param {string} outputId Element ID of the output display.\n",
              " * @return {!Iterable<!Object>} Iterable of next steps.\n",
              " */\n",
              "function* uploadFilesStep(inputId, outputId) {\n",
              "  const inputElement = document.getElementById(inputId);\n",
              "  inputElement.disabled = false;\n",
              "\n",
              "  const outputElement = document.getElementById(outputId);\n",
              "  outputElement.innerHTML = '';\n",
              "\n",
              "  const pickedPromise = new Promise((resolve) => {\n",
              "    inputElement.addEventListener('change', (e) => {\n",
              "      resolve(e.target.files);\n",
              "    });\n",
              "  });\n",
              "\n",
              "  const cancel = document.createElement('button');\n",
              "  inputElement.parentElement.appendChild(cancel);\n",
              "  cancel.textContent = 'Cancel upload';\n",
              "  const cancelPromise = new Promise((resolve) => {\n",
              "    cancel.onclick = () => {\n",
              "      resolve(null);\n",
              "    };\n",
              "  });\n",
              "\n",
              "  // Wait for the user to pick the files.\n",
              "  const files = yield {\n",
              "    promise: Promise.race([pickedPromise, cancelPromise]),\n",
              "    response: {\n",
              "      action: 'starting',\n",
              "    }\n",
              "  };\n",
              "\n",
              "  cancel.remove();\n",
              "\n",
              "  // Disable the input element since further picks are not allowed.\n",
              "  inputElement.disabled = true;\n",
              "\n",
              "  if (!files) {\n",
              "    return {\n",
              "      response: {\n",
              "        action: 'complete',\n",
              "      }\n",
              "    };\n",
              "  }\n",
              "\n",
              "  for (const file of files) {\n",
              "    const li = document.createElement('li');\n",
              "    li.append(span(file.name, {fontWeight: 'bold'}));\n",
              "    li.append(span(\n",
              "        `(${file.type || 'n/a'}) - ${file.size} bytes, ` +\n",
              "        `last modified: ${\n",
              "            file.lastModifiedDate ? file.lastModifiedDate.toLocaleDateString() :\n",
              "                                    'n/a'} - `));\n",
              "    const percent = span('0% done');\n",
              "    li.appendChild(percent);\n",
              "\n",
              "    outputElement.appendChild(li);\n",
              "\n",
              "    const fileDataPromise = new Promise((resolve) => {\n",
              "      const reader = new FileReader();\n",
              "      reader.onload = (e) => {\n",
              "        resolve(e.target.result);\n",
              "      };\n",
              "      reader.readAsArrayBuffer(file);\n",
              "    });\n",
              "    // Wait for the data to be ready.\n",
              "    let fileData = yield {\n",
              "      promise: fileDataPromise,\n",
              "      response: {\n",
              "        action: 'continue',\n",
              "      }\n",
              "    };\n",
              "\n",
              "    // Use a chunked sending to avoid message size limits. See b/62115660.\n",
              "    let position = 0;\n",
              "    do {\n",
              "      const length = Math.min(fileData.byteLength - position, MAX_PAYLOAD_SIZE);\n",
              "      const chunk = new Uint8Array(fileData, position, length);\n",
              "      position += length;\n",
              "\n",
              "      const base64 = btoa(String.fromCharCode.apply(null, chunk));\n",
              "      yield {\n",
              "        response: {\n",
              "          action: 'append',\n",
              "          file: file.name,\n",
              "          data: base64,\n",
              "        },\n",
              "      };\n",
              "\n",
              "      let percentDone = fileData.byteLength === 0 ?\n",
              "          100 :\n",
              "          Math.round((position / fileData.byteLength) * 100);\n",
              "      percent.textContent = `${percentDone}% done`;\n",
              "\n",
              "    } while (position < fileData.byteLength);\n",
              "  }\n",
              "\n",
              "  // All done.\n",
              "  yield {\n",
              "    response: {\n",
              "      action: 'complete',\n",
              "    }\n",
              "  };\n",
              "}\n",
              "\n",
              "scope.google = scope.google || {};\n",
              "scope.google.colab = scope.google.colab || {};\n",
              "scope.google.colab._files = {\n",
              "  _uploadFiles,\n",
              "  _uploadFilesContinue,\n",
              "};\n",
              "})(self);\n",
              "</script> "
            ]
          },
          "metadata": {}
        },
        {
          "output_type": "stream",
          "name": "stdout",
          "text": [
            "Saving Mykhailo_Sakivskyi_Data_Science_CV.pdf to Mykhailo_Sakivskyi_Data_Science_CV (3).pdf\n"
          ]
        }
      ]
    },
    {
      "cell_type": "markdown",
      "source": [
        "#Extract and clean the text of the downloaded file"
      ],
      "metadata": {
        "id": "ZZlS7rP5j6Gi"
      }
    },
    {
      "cell_type": "code",
      "source": [
        "from bs4 import BeautifulSoup\n",
        "import re\n",
        "\n",
        "def clean_text(text):\n",
        "    # Remove HTML tags\n",
        "    text = BeautifulSoup(text, \"html.parser\").get_text()\n",
        "\n",
        "    # Convert to lowercase (can be skipped if using a cased model)\n",
        "    text = text.lower()\n",
        "\n",
        "    # Remove unwanted characters, keeping emails, links, etc.\n",
        "    text = re.sub(r\"[^\\w\\s@.:/]\", \"\", text)\n",
        "\n",
        "    # Remove multiple spaces\n",
        "    text = re.sub(r'\\s+', ' ', text)\n",
        "\n",
        "    return text.strip()\n",
        "\n",
        "\n",
        "# Apply to uploaded file(s)\n",
        "for filename in uploaded.keys():\n",
        "    print(f\"✅ File uploaded: {filename}\")\n",
        "\n",
        "    # Step 1: extract text\n",
        "    raw_text = extract_text_from_pdf(filename)\n",
        "\n",
        "    # Step 2: clean text\n",
        "    cleaned_text = clean_text(raw_text)\n",
        "\n",
        "    # Step 3: preview the result\n",
        "    print(\"\\n📄 First 1000 characters of cleaned text:\\n\")\n",
        "    print(cleaned_text[:1000])\n",
        "\n"
      ],
      "metadata": {
        "id": "yE3NLLvFcwaU",
        "colab": {
          "base_uri": "https://localhost:8080/"
        },
        "outputId": "db5b4548-0f77-4927-892b-a9303d320624"
      },
      "execution_count": 14,
      "outputs": [
        {
          "output_type": "stream",
          "name": "stdout",
          "text": [
            "✅ File uploaded: Mykhailo_Sakivskyi_Data_Science_CV (3).pdf\n",
            "\n",
            "📄 First 1000 characters of cleaned text:\n",
            "\n",
            "education projects fife college edinburgh diploma in data science scqf level 7 2025present sakivskyi mykhailo experience profile data scientist data analyst python power bi machine learning sandi data analyst assistant prepared and transformed raw datasets using python pandas numpy to support predictive modeling. conducted data cleaning missing value handling and data formatting for machine learning workflows. created interactive dashboards in power bi and visual reports with matplotlib/seaborn to support decisionmaking. performed customer segmentation campaign performance evaluation and trend analysis for marketing insights. collaborated with senior data scientists on eda feature engineering and model evaluation tasks. bydgoszcz poland solair installation junior data analyst marketing manager collected organized and structured customer and sales data to support digital marketing strategies. used excel and sql to explore customer behavior patterns and identify key performance trends. c\n"
          ]
        }
      ]
    },
    {
      "cell_type": "markdown",
      "source": [
        "# EDA"
      ],
      "metadata": {
        "id": "4egjjM9kqiTA"
      }
    },
    {
      "cell_type": "code",
      "source": [
        "# 📦 Import libraries\n",
        "import matplotlib.pyplot as plt\n",
        "from collections import Counter\n",
        "from transformers import BertTokenizer\n",
        "\n",
        "# 🧼 Using cleaned text\n",
        "text = cleaned_text\n",
        "\n",
        "# 1️⃣ Number of characters and words\n",
        "print(f\"📏 Length of cleaned text: {len(text)} characters\")\n",
        "print(f\"🔢 Number of words: {len(text.split())}\")\n",
        "\n",
        "# 2️⃣ Word frequency analysis\n",
        "word_counts = Counter(text.split())\n",
        "most_common = word_counts.most_common(20)\n",
        "print(\"\\n📊 Top 20 most frequent words:\")\n",
        "for word, count in most_common:\n",
        "    print(f\"{word}: {count}\")\n",
        "\n",
        "# 3️⃣ Visualization (Top 20 words)\n",
        "words, counts = zip(*most_common)\n",
        "plt.figure(figsize=(10, 5))\n",
        "plt.bar(words, counts, color='skyblue', edgecolor='black')\n",
        "plt.title(\"Top 20 Most Frequent Words in Resume\")\n",
        "plt.xticks(rotation=45)\n",
        "plt.ylabel(\"Frequency\")\n",
        "plt.tight_layout()\n",
        "plt.show()\n",
        "\n",
        "# 4️⃣ Vocabulary richness\n",
        "vocab_richness = len(set(text.split())) / len(text.split())\n",
        "print(f\"\\n🧠 Vocabulary richness: {vocab_richness:.3f}\")\n",
        "\n",
        "# 5️⃣ Tokens for BERT\n",
        "tokenizer = BertTokenizer.from_pretrained(\"bert-base-uncased\")\n",
        "tokens = tokenizer.tokenize(text)\n",
        "print(f\"\\n🧬 Number of BERT tokens: {len(tokens)}\")\n",
        "\n",
        "# 6️⃣ Show first 30 tokens\n",
        "print(\"\\n🔍 First 30 tokens:\")\n",
        "print(tokens[:30])\n",
        "\n",
        "# 7️⃣ Check for token limit exceedance\n",
        "if len(tokens) > 512:\n",
        "    print(\"\\n⚠️ WARNING: Token count exceeds 512 — text needs to be chunked.\")\n",
        "else:\n",
        "    print(\"\\n✅ Text fits into a single BERT run (up to 512 tokens)\")\n",
        "\n",
        "\n",
        "\n",
        "\n"
      ],
      "metadata": {
        "colab": {
          "base_uri": "https://localhost:8080/",
          "height": 1000
        },
        "id": "aX2B0WG6qlMU",
        "outputId": "3dc79a7b-5daa-43c1-df79-5947605c5c58"
      },
      "execution_count": 15,
      "outputs": [
        {
          "output_type": "stream",
          "name": "stdout",
          "text": [
            "📏 Length of cleaned text: 4937 characters\n",
            "🔢 Number of words: 678\n",
            "\n",
            "📊 Top 20 most frequent words:\n",
            "and: 41\n",
            "data: 25\n",
            "in: 16\n",
            "to: 15\n",
            "i: 14\n",
            "with: 9\n",
            "customer: 8\n",
            "marketing: 8\n",
            "for: 7\n",
            "my: 7\n",
            "power: 6\n",
            "learning: 6\n",
            "analyst: 5\n",
            "bi: 5\n",
            "business: 5\n",
            "a: 5\n",
            "edinburgh: 4\n",
            "science: 4\n",
            "sakivskyi: 4\n",
            "mykhailo: 4\n"
          ]
        },
        {
          "output_type": "display_data",
          "data": {
            "text/plain": [
              "<Figure size 1000x500 with 1 Axes>"
            ],
            "image/png": "[encoded data removed]"
          },
          "metadata": {}
        },
        {
          "output_type": "stream",
          "name": "stdout",
          "text": [
            "\n",
            "🧠 Vocabulary richness: 0.534\n",
            "\n",
            "🧬 Number of BERT tokens: 906\n",
            "\n",
            "🔍 First 30 tokens:\n",
            "['education', 'projects', 'fife', 'college', 'edinburgh', 'diploma', 'in', 'data', 'science', 'sc', '##q', '##f', 'level', '7', '202', '##5', '##pres', '##ent', 'sa', '##ki', '##vsky', '##i', 'my', '##kha', '##ilo', 'experience', 'profile', 'data', 'scientist', 'data']\n",
            "\n",
            "⚠️ WARNING: Token count exceeds 512 — text needs to be chunked.\n"
          ]
        }
      ]
    },
    {
      "cell_type": "markdown",
      "source": [
        "# Zero-Shot Classification от Hugging Face"
      ],
      "metadata": {
        "id": "tas5MlsBxpwT"
      }
    },
    {
      "cell_type": "code",
      "source": [
        "from transformers import pipeline\n",
        "import re\n",
        "\n",
        "# Model initialization\n",
        "classifier = pipeline(\"zero-shot-classification\", model=\"facebook/bart-large-mnli\")\n",
        "labels = [\"Data Scientist\", \"Not suitable\"]\n",
        "\n",
        "# Skills list for Data Scientist\n",
        "data_science_skills = [\n",
        "    \"python\", \"sql\", \"pandas\", \"numpy\", \"matplotlib\", \"seaborn\", \"scikit-learn\",\n",
        "    \"machine learning\", \"deep learning\", \"tensorflow\", \"keras\", \"xgboost\",\n",
        "    \"data visualization\", \"eda\", \"statistics\", \"regression\", \"classification\", \"power bi\"\n",
        "]\n",
        "\n",
        "# Function to evaluate skills in the text\n",
        "def evaluate_skills(text, skill_list):\n",
        "    text_lower = text.lower()\n",
        "    found_skills = []\n",
        "    for skill in skill_list:\n",
        "        pattern = r'\\b' + re.escape(skill.lower()) + r'\\b'\n",
        "        if re.search(pattern, text_lower):\n",
        "            found_skills.append(skill)\n",
        "    score = len(found_skills) / len(skill_list)\n",
        "    return score, found_skills\n",
        "\n",
        "# Run zero-shot classification\n",
        "result = classifier(cleaned_text, candidate_labels=labels)\n",
        "predicted = result[\"labels\"][0]\n",
        "print(f\"\\n🏷️ Predicted profession: {predicted}\")\n",
        "\n",
        "# Threshold for skill match acceptance\n",
        "threshold = 0.7\n",
        "\n",
        "if predicted == \"Data Scientist\":\n",
        "    score, matched = evaluate_skills(cleaned_text, data_science_skills)\n",
        "    percent = score * 100\n",
        "    print(f\"🧠 Skill match: {len(matched)}/{len(data_science_skills)} = {percent:.1f}%\")\n",
        "    print(\"✅ Found skills:\", \", \".join(matched))\n",
        "\n",
        "    if score >= threshold:\n",
        "        print(\"📨 Resume is suitable — send to HR ✅\")\n",
        "    else:\n",
        "        print(\"❌ Not enough skills — reject\")\n",
        "else:\n",
        "    print(\"❌ This is not a Data Scientist resume — reject\")\n",
        "\n"
      ],
      "metadata": {
        "colab": {
          "base_uri": "https://localhost:8080/"
        },
        "id": "UsauCvWZwW_V",
        "outputId": "73317fa7-c051-440f-e342-161d91161fba"
      },
      "execution_count": 16,
      "outputs": [
        {
          "output_type": "stream",
          "name": "stderr",
          "text": [
            "Device set to use cpu\n"
          ]
        },
        {
          "output_type": "stream",
          "name": "stdout",
          "text": [
            "\n",
            "🏷️ Predicted profession: Data Scientist\n",
            "🧠 Skill match: 15/18 = 83.3%\n",
            "✅ Found skills: python, sql, pandas, numpy, matplotlib, seaborn, machine learning, deep learning, keras, xgboost, eda, statistics, regression, classification, power bi\n",
            "📨 Resume is suitable — send to HR ✅\n"
          ]
        }
      ]
    }
  ]
}